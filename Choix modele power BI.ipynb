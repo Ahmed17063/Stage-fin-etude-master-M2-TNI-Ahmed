{
 "cells": [
  {
   "cell_type": "code",
   "execution_count": 1,
   "metadata": {},
   "outputs": [],
   "source": [
    "import os\n",
    "import pandas as pd\n",
    "import openpyxl\n",
    "import tkinter as tk"
   ]
  },
  {
   "cell_type": "markdown",
   "metadata": {},
   "source": [
    "Importation de fiche de suivi d'essai"
   ]
  },
  {
   "cell_type": "code",
   "execution_count": null,
   "metadata": {},
   "outputs": [],
   "source": [
    "ficheSuiviEssai=pd.read_excel(\"Sources/fiche de suivi d'essais.xlsx\")"
   ]
  },
  {
   "cell_type": "markdown",
   "metadata": {},
   "source": [
    "Définition des variables"
   ]
  },
  {
   "cell_type": "code",
   "execution_count": null,
   "metadata": {},
   "outputs": [],
   "source": [
    "NbreSets=int(ficheSuiviEssai[\"Set\"].iloc[-1])\n",
    "NbreVideoMicroscopie=ficheSuiviEssai[\"Videomicroscopie\"].iloc[-1]\n",
    "NbreProfilometres=ficheSuiviEssai[\"Profilometre\"].iloc[-1]\n",
    "NbreEssais=ficheSuiviEssai[\"Essai\"].iloc[-1]\n",
    "NbreImages=int(NbreVideoMicroscopie + NbreProfilometres + NbreEssais)"
   ]
  },
  {
   "cell_type": "code",
   "execution_count": null,
   "metadata": {},
   "outputs": [],
   "source": [
    "if NbreSets>=11 or NbreSets==0:\n",
    "    mainapp1=tk.Tk()\n",
    "    mainapp1.title(\"Erreur\")\n",
    "    mainapp1.geometry(\"400x100\")\n",
    "    mainapp1.eval('tk::PlaceWindow . center')\n",
    "\n",
    "    texte=tk.Label(mainapp1, text=\"Le nombre de sets doit étre entre 1 et 10 inclus\")\n",
    "    texte.pack()\n",
    "\n",
    "    mainapp1.mainloop()\n",
    "elif NbreImages>300:\n",
    "    mainapp2=tk.Tk()\n",
    "    mainapp2.title(\"Erreur\")\n",
    "    mainapp2.geometry(\"400x100\")\n",
    "    mainapp2.eval('tk::PlaceWindow . center')\n",
    "\n",
    "    texte=tk.Label(mainapp2, text=\"Le nombre d'images ne doit pas dépasser 600 images dans le rapport.\")\n",
    "    texte.pack()\n",
    "\n",
    "    mainapp2.mainloop()\n",
    "\n",
    "else:\n",
    "    path = \"Models/\"+str(NbreSets)+\"sets/cas\"+str(NbreImages)\n",
    "    path = os.path.realpath(path)\n",
    "    os.startfile(path)"
   ]
  }
 ],
 "metadata": {
  "kernelspec": {
   "display_name": "Python 3.10.4 64-bit",
   "language": "python",
   "name": "python3"
  },
  "language_info": {
   "codemirror_mode": {
    "name": "ipython",
    "version": 3
   },
   "file_extension": ".py",
   "mimetype": "text/x-python",
   "name": "python",
   "nbconvert_exporter": "python",
   "pygments_lexer": "ipython3",
   "version": "3.10.4"
  },
  "orig_nbformat": 4,
  "vscode": {
   "interpreter": {
    "hash": "0cad00d5a13a3f60cb6d0dee52753d434f6ef86636012a882082aa2fea66afa5"
   }
  }
 },
 "nbformat": 4,
 "nbformat_minor": 2
}
