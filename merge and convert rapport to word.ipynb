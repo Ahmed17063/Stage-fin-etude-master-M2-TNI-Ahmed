{
 "cells": [
  {
   "cell_type": "code",
   "execution_count": null,
   "metadata": {},
   "outputs": [],
   "source": [
    "import os\n",
    "from PyPDF2 import PdfFileMerger\n",
    "from pdf2docx import parse, Converter\n",
    "from docx import Document"
   ]
  },
  {
   "cell_type": "markdown",
   "metadata": {},
   "source": [
    "Fusion des rapports"
   ]
  },
  {
   "cell_type": "code",
   "execution_count": null,
   "metadata": {},
   "outputs": [],
   "source": [
    "CurrFold=os.getcwd()  #get the current directory\n",
    " \n",
    "x = [a for a in os.listdir(CurrFold) if a.endswith(\".pdf\")]\n",
    "def last_6chars(x):\n",
    "    return(x[-6:])\n",
    "\n",
    "y=sorted(x, key = last_6chars)  \n",
    " \n",
    "merger = PdfFileMerger()\n",
    " \n",
    "for pdf in y:\n",
    "    merger.append(open(pdf, 'rb'), import_bookmarks=False) # pour éviter certains erreurs, je dois ajouter import_bookmarks=False dans mon script.\n",
    " \n",
    "with open(\"result.pdf\", \"wb\") as fout:\n",
    "    merger.write(fout)\n",
    "\n",
    "os.chdir(\"rapport\")         #changer notre dossier de travail au dossier rapport\n",
    "\n",
    "document = Document()\n",
    "document.save('rapport.docx')\n",
    "pdf_file = os.path.join(CurrFold,\"result.pdf\")\n",
    "docx_file = \"rapport.docx\""
   ]
  },
  {
   "cell_type": "markdown",
   "metadata": {},
   "source": [
    "Conversion de rapport en docx"
   ]
  },
  {
   "cell_type": "code",
   "execution_count": null,
   "metadata": {},
   "outputs": [],
   "source": [
    "parse(pdf_file, docx_file)"
   ]
  },
  {
   "cell_type": "markdown",
   "metadata": {},
   "source": [
    "Supprimer le rapport pdf creé auparavant"
   ]
  },
  {
   "cell_type": "code",
   "execution_count": null,
   "metadata": {},
   "outputs": [],
   "source": [
    "os.chdir(CurrFold)   #revenir vers le dossier d'automatisation de rapport\n",
    "os.remove(\"result.pdf\") #Supprimer le fichier pdf creé aprés son conversion en word "
   ]
  }
 ],
 "metadata": {
  "kernelspec": {
   "display_name": "Python 3.10.4 64-bit",
   "language": "python",
   "name": "python3"
  },
  "language_info": {
   "name": "python",
   "version": "3.10.4"
  },
  "orig_nbformat": 4,
  "vscode": {
   "interpreter": {
    "hash": "0cad00d5a13a3f60cb6d0dee52753d434f6ef86636012a882082aa2fea66afa5"
   }
  }
 },
 "nbformat": 4,
 "nbformat_minor": 2
}
